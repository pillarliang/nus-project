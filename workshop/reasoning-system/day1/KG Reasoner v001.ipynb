{
 "cells": [
  {
   "cell_type": "markdown",
   "metadata": {},
   "source": [
    "# [Workshop] Knowledge Graph (KG) Reasoner"
   ]
  },
  {
   "cell_type": "markdown",
   "metadata": {},
   "source": [
    "### Ground Work:\n",
    "\n",
    "Read novel << Animal Farm >> By author: George Orwell (pseudonym of Eric Blair) (1903-1950) http://gutenberg.net.au/ebooks01/0100011.txt\n",
    "\n",
    "\n",
    "<img src=\"https://upload.wikimedia.org/wikipedia/commons/f/fb/Animal_Farm_-_1st_edition.jpg\" width=300>"
   ]
  },
  {
   "cell_type": "markdown",
   "metadata": {},
   "source": [
    "# 0. Package Installation (one time job)"
   ]
  },
  {
   "cell_type": "markdown",
   "metadata": {},
   "source": [
    "### Neo4J: (Knowledge) Graph Database - How to install and configure graph database Neo4j on Ubuntu 20.04 ?\n",
    "\n",
    "https://www.digitalocean.com/community/tutorials/how-to-install-and-configure-neo4j-on-ubuntu-20-04#:~:text=Run%20the%20following%20command%20to,%7C%20sudo%20apt%2Dkey%20add%20%2D&text=Next%2C%20add%20the%20Neo4j%204.1,.neo4j.com%20stable%204.1%22\n"
   ]
  },
  {
   "cell_type": "code",
   "execution_count": 1,
   "metadata": {
    "scrolled": true
   },
   "outputs": [],
   "source": [
    "# Install below Python-NEO4J interaction library\n",
    "# !pip install neo4j"
   ]
  },
  {
   "cell_type": "markdown",
   "metadata": {},
   "source": [
    "### OpenNRE: Open-source toolkit for relation extraction - How to install 'OpenNRE' when '!pip install opennre' not working?\n",
    "\n",
    "https://opennre-docs.readthedocs.io/en/latest/get_started/install.html\n",
    "\n"
   ]
  },
  {
   "cell_type": "code",
   "execution_count": 2,
   "metadata": {},
   "outputs": [],
   "source": [
    "# !pip install opennre"
   ]
  },
  {
   "cell_type": "markdown",
   "metadata": {},
   "source": [
    "# 1. Import Library"
   ]
  },
  {
   "cell_type": "code",
   "execution_count": 3,
   "metadata": {},
   "outputs": [
    {
     "name": "stderr",
     "output_type": "stream",
     "text": [
      "/home/ubuntu/anaconda3/envs/nlp/lib/python3.9/site-packages/tqdm/auto.py:21: TqdmWarning: IProgress not found. Please update jupyter and ipywidgets. See https://ipywidgets.readthedocs.io/en/stable/user_install.html\n",
      "  from .autonotebook import tqdm as notebook_tqdm\n"
     ]
    }
   ],
   "source": [
    "from neo4j import GraphDatabase\n",
    "from neo4j.exceptions import ServiceUnavailable\n",
    "import logging\n",
    "import spacy\n",
    "import opennre"
   ]
  },
  {
   "cell_type": "markdown",
   "metadata": {},
   "source": [
    "# 2. Initialize working environment"
   ]
  },
  {
   "cell_type": "markdown",
   "metadata": {},
   "source": [
    "### Connect Neo4j"
   ]
  },
  {
   "cell_type": "code",
   "execution_count": 4,
   "metadata": {},
   "outputs": [],
   "source": [
    "# Initialize the graph DB and delete all the nodes and relationships\n",
    "graph = GraphDatabase.driver(\n",
    "    \"neo4j://localhost:7687\",\n",
    "#     auth=(\"neo4j\", \"7895123k\")\n",
    "    auth=(\"neo4j\", \"xxx\")\n",
    ")"
   ]
  },
  {
   "cell_type": "code",
   "execution_count": 5,
   "metadata": {},
   "outputs": [],
   "source": [
    "query = (\n",
    "        \"MATCH (all_nodes)\"\n",
    "        \"OPTIONAL MATCH (all_nodes)-[all_rels]->()\"\n",
    "        \"DELETE all_nodes, all_rels\"\n",
    "    )\n",
    "with graph.session() as session:\n",
    "    result = session.run(query)"
   ]
  },
  {
   "cell_type": "markdown",
   "metadata": {},
   "source": [
    "### Load OpenNRE"
   ]
  },
  {
   "cell_type": "code",
   "execution_count": 6,
   "metadata": {},
   "outputs": [
    {
     "name": "stderr",
     "output_type": "stream",
     "text": [
      "2023-08-26 18:10:14,150 - root - INFO - Loading BERT pre-trained checkpoint.\n",
      "Some weights of the model checkpoint at /home/ubuntu/.opennre/pretrain/bert-base-uncased were not used when initializing BertModel: ['cls.predictions.transform.LayerNorm.weight', 'cls.predictions.bias', 'cls.predictions.transform.LayerNorm.bias', 'cls.seq_relationship.weight', 'cls.seq_relationship.bias', 'cls.predictions.transform.dense.weight', 'cls.predictions.transform.dense.bias', 'cls.predictions.decoder.weight']\n",
      "- This IS expected if you are initializing BertModel from the checkpoint of a model trained on another task or with another architecture (e.g. initializing a BertForSequenceClassification model from a BertForPreTraining model).\n",
      "- This IS NOT expected if you are initializing BertModel from the checkpoint of a model that you expect to be exactly identical (initializing a BertForSequenceClassification model from a BertForSequenceClassification model).\n"
     ]
    }
   ],
   "source": [
    "# https://github.com/thunlp/OpenNRE\n",
    "\n",
    "# https://github.com/thunlp/OpenNRE/issues/312\n",
    "# !pip install transformers==3.4.0\n",
    "import transformers\n",
    "\n",
    "# model = opennre.get_model('wiki80_cnn_softmax')\n",
    "model = opennre.get_model('wiki80_bert_softmax')\n",
    "# model = opennre.get_model('wiki80_bertentity_softmax')\n",
    "# model = opennre.get_model('tacred_bert_softmax')\n",
    "# model = opennre.get_model('tacred_bertentity_softmax')\n"
   ]
  },
  {
   "cell_type": "markdown",
   "metadata": {},
   "source": [
    "# 3. Create Knowledge Graph"
   ]
  },
  {
   "cell_type": "code",
   "execution_count": 7,
   "metadata": {
    "scrolled": true
   },
   "outputs": [],
   "source": [
    "# !python -m spacy download en\n",
    "# !python -m spacy download en_core_web_lg"
   ]
  },
  {
   "cell_type": "markdown",
   "metadata": {},
   "source": [
    "## 3.1 Build KG by extracting name-entities (vertices/nodes) & relations (edges/links/predicates) from textual corpus."
   ]
  },
  {
   "cell_type": "code",
   "execution_count": 8,
   "metadata": {},
   "outputs": [
    {
     "data": {
      "text/plain": [
       "['Happy Village is located in Florida, USA.\\n',\n",
       " 'Mr. Wilson is a well-known local silversmith in Happy Village.\\n',\n",
       " 'He is very very old.\\n',\n",
       " 'When Mr. Wilson was young, he came to Happy Village to seek refuge from a war.\\n',\n",
       " 'Mr. Wilson found his wife Mary here and raised three children.\\n']"
      ]
     },
     "execution_count": 8,
     "metadata": {},
     "output_type": "execute_result"
    }
   ],
   "source": [
    "sentences = []\n",
    "\n",
    "with open(\"./corpus/Family.txt\", \"r\") as f:\n",
    "    sentence = f.readline()\n",
    "    while sentence:\n",
    "        sentences.append(sentence)\n",
    "        sentence = f.readline()\n",
    "\n",
    "sentences[0:5]"
   ]
  },
  {
   "cell_type": "markdown",
   "metadata": {},
   "source": [
    "### SpaCy: Named Entity Recognition:\n",
    "\n",
    "https://spacy.io/api/annotation#named-entities\n",
    "\n",
    "\n",
    "### OpenNRE: Relation Extraction:\n",
    "\n",
    "https://github.com/thunlp/OpenNRE#what-is-relation-extraction\n"
   ]
  },
  {
   "cell_type": "code",
   "execution_count": 9,
   "metadata": {
    "scrolled": true
   },
   "outputs": [],
   "source": [
    "nlp = spacy.load('en_core_web_lg') # !python -m spacy download en_core_web_lg\n"
   ]
  },
  {
   "cell_type": "markdown",
   "metadata": {},
   "source": [
    "使用Spacy加载英语的预训练语言模型”en_core_web_lg”。\n",
    "预训练语言模型包含了丰富的语言知识和语义信息，可以用于各种自然语言处理任务，如实体识别、依赖性解析、命名实体识别等。加载后，可以使用该模型对文本进行各种NLP操作和分析。"
   ]
  },
  {
   "cell_type": "code",
   "execution_count": 10,
   "metadata": {},
   "outputs": [
    {
     "name": "stdout",
     "output_type": "stream",
     "text": [
      "create new node with label as GPE and name as Florida\n",
      "create new node with label as GPE and name as USA\n",
      "create new relationship Florida - country -> USA with confidence of 0.9941097497940063\n",
      "create new node with label as PERSON and name as Wilson\n",
      "create new node with label as GPE and name as Happy Village\n",
      "create new relationship Wilson - residence -> Happy Village with confidence of 0.9967474937438965\n",
      "create new relationship Happy Village - residence -> Wilson with confidence of 0.9943844079971313\n",
      "create new node with label as PERSON and name as Mary\n",
      "create new relationship Wilson - spouse -> Mary with confidence of 0.9981299042701721\n",
      "create new relationship Mary - spouse -> Wilson with confidence of 0.9981393814086914\n",
      "create new node with label as PERSON and name as James\n",
      "create new relationship James - father -> Wilson with confidence of 0.9941914677619934\n",
      "create new relationship Wilson - child -> James with confidence of 0.9942625164985657\n",
      "create new node with label as PERSON and name as Tom\n",
      "create new relationship Tom - father -> Wilson with confidence of 0.9960021376609802\n",
      "create new relationship Wilson - child -> Tom with confidence of 0.9818040132522583\n",
      "create new node with label as PERSON and name as Madonna\n",
      "create new relationship Wilson - child -> Madonna with confidence of 0.9502472877502441\n",
      "create new relationship Madonna - father -> Wilson with confidence of 0.9321602582931519\n",
      "create new node with label as PERSON and name as William\n",
      "create new relationship William - father -> James with confidence of 0.9971319437026978\n",
      "create new relationship James - child -> William with confidence of 0.9701952338218689\n"
     ]
    }
   ],
   "source": [
    "\n",
    "# 识别句子中的实体和它们之间的关系，并将它们存储到Neo4j图数据库中\n",
    "\n",
    "# 1. 遍历每个句子。\n",
    "# 2. 使用spaCy将句子进行分析，提取其中的命名实体（人名、地名、组织名）。\n",
    "# 3. 对于每个实体，如果它不在已有实体列表中，则将其添加到已有实体字典中，并使用节点标签和实体名称在图数据库中创建一个新节点。\n",
    "# 4. 对于每对实体，判断它们的关系是否已经存在。如果不存在，则使用OpenNRE模型推断它们的关系及其置信度。\n",
    "# 5. 将推断得到的关系存储到已有关系列表中，并根据置信度判断是否需要在图数据库中创建一个新的关系。\n",
    "\n",
    "# 通过该代码段，可以在文本中识别出实体并构建实体之间的关系图，从而分析实体之间的关联性。\n",
    "\n",
    "exist_ent = {}\n",
    "exist_relationship = []\n",
    "\n",
    "for sentence in sentences:\n",
    "    # 遍历每个句子。\n",
    "    doc = nlp(sentence)\n",
    "    entities = []\n",
    "    names_of_entities = []\n",
    "    for ent in doc.ents:\n",
    "        # 提取特定类型的实体\n",
    "        # 每次迭代，将会取出一个实体，并将其赋值给变量ent。在循环体内可以对每个实体执行进一步的操作或者获取实体的相关信息，比如实体的文本内容、标签等。\n",
    "        # ent.text 获取到实体的文本内容，ent.label_ 获取到实体的标签（如’PERSON’表示人名，‘GPE’表示地名，‘ORG’表示组织名等）。\n",
    "        # 这样我们就可以根据实体的标签和文本内容来进行后续的处理，比如存储到数据库中或者进行关系推断等。\n",
    "        if ent.label_ in ['PERSON', 'GPE', 'ORG'] and ent.text not in names_of_entities:\n",
    "#        if ent not in entities:\n",
    "            names_of_entities.append(ent.text)\n",
    "            entities.append(ent)\n",
    "            \n",
    "    for ent in entities:\n",
    "        # 遍历所有的新实体，将其存储到 exist_ent 字典中，并在图数据库中创建新的节点。\n",
    "        if exist_ent.get(ent.text) is None:\n",
    "            # exist_ent 字典中是否已存在当前实体的文本内容。\n",
    "            exist_ent[ent.text] = ent.text\n",
    "            # 使用作为节点标签和实体名称的信息，构建一个执行Cypher查询的字符串。\n",
    "            query = (\n",
    "                \"MERGE (node: \"+ent.label_+\" {name: $name})\" # MERGE语句用于在图数据库中创建节点，如果节点已存在则不重复创建。\n",
    "                \"RETURN node\"\n",
    "            )\n",
    "            # 使用 graph.session() 函数创建一个数据库会话，并使用 session.run() 方法执行查询。执行结果存储在 result 对象中。\n",
    "            with graph.session() as session:\n",
    "                result = session.run(query, name=ent.text)\n",
    "            print(\"create new node with label as {0} and name as {1}\".format(ent.label_, ent.text))\n",
    "\n",
    "    for i in range(len(entities)):\n",
    "        for j in range(i + 1, len(entities)):\n",
    "            text_i = entities[i].text\n",
    "            text_j = entities[j].text\n",
    "            loc_h = sentence.find(text_i)\n",
    "            loc_t = sentence.find(text_j)\n",
    "            # 推断这两个实体之间的关系\n",
    "            result = model.infer({'text': sentence, 'h': {'pos': (loc_h, loc_h + len(text_i))},\n",
    "                               't': {'pos': (loc_t, loc_t + len(text_j))}})\n",
    "           \n",
    "            (rel, confidence) = result[0].replace(' ', '_'), result[1]\n",
    "\n",
    "            record = (text_i, text_j, rel, confidence) # 记录实体文本、关系名称和置信度。\n",
    "\n",
    "            # 创建反向关系\n",
    "            result_rev = model.infer({'text': sentence, 'h': {'pos': (loc_t, loc_t + len(text_j))},\n",
    "                               't': {'pos': (loc_h, loc_h + len(text_i))}})\n",
    "            (rel_rev, confidence) = result_rev[0].replace(' ', '_'), result_rev[1]\n",
    "\n",
    "            record_rev = (text_j, text_i, rel_rev, confidence)\n",
    "\n",
    "            # 检查是否已经存在相同的关系记录，如果不存在，则将关系记录添加到 exist_relationship 列表中。\n",
    "            if record not in exist_relationship:\n",
    "                exist_relationship.append(record)\n",
    "                if record[3] > 0.8:\n",
    "                    # 检查置信度是否大于0.8\n",
    "                    query = (\n",
    "                        \"MATCH (n1 {name: $name1})\"\n",
    "                        \"MATCH (n2 {name: $name2})\"\n",
    "                        \"MERGE (n1) - [r:\"+record[2]+\"] -> (n2)\"\n",
    "                        \"RETURN n1, n2, r\"\n",
    "                    )\n",
    "                    # 使用Cypher查询在图数据库中创建新的关系\n",
    "                    with graph.session() as session:\n",
    "                        result = session.run(query, name1=exist_ent[text_i], name2=exist_ent[text_j])\n",
    "                    print(\"create new relationship {0} - {1} -> {2} with confidence of {3}\".format(record[0], record[2], record[1], record[3]))\n",
    "\n",
    "            if record_rev not in exist_relationship:\n",
    "                exist_relationship.append(record_rev)\n",
    "                if record_rev[3] > 0.8:\n",
    "                    query = (\n",
    "                        \"MATCH (n1 {name: $name1})\"\n",
    "                        \"MATCH (n2 {name: $name2})\"\n",
    "                        \"MERGE (n1) - [r:\"+record_rev[2]+\"] -> (n2)\"   \n",
    "                        \"RETURN n1, n2, r\"\n",
    "                    )\n",
    "\n",
    "                    with graph.session() as session:\n",
    "                        result = session.run(query, name1=exist_ent[text_j], name2=exist_ent[text_i])\n",
    "                    print(\"create new relationship {0} - {1} -> {2} with confidence of {3}\".format(record_rev[0], record_rev[2], record_rev[1], record_rev[3]))\n"
   ]
  },
  {
   "cell_type": "markdown",
   "metadata": {},
   "source": [
    "### Visualize created knowledge graph at: http://localhost:7474/browser/\n",
    "\n",
    "* Username: neo4j\n",
    "\n",
    "* Password: ai-user"
   ]
  },
  {
   "cell_type": "markdown",
   "metadata": {},
   "source": [
    "## 3.2 Extend/Expand KG by inferecing (auto-reasoning) new relations/entites using univeral rules (static knowledge / common sense).\n",
    "\n",
    "Automatic Reasoner"
   ]
  },
  {
   "cell_type": "code",
   "execution_count": 11,
   "metadata": {},
   "outputs": [],
   "source": [
    "# from neo4j import GraphDatabase\n",
    "# from neo4j.exceptions import ServiceUnavailable\n",
    "# import logging\n",
    "# import spacy\n",
    "# import opennre"
   ]
  },
  {
   "cell_type": "markdown",
   "metadata": {},
   "source": [
    "### Practise graph modification:"
   ]
  },
  {
   "cell_type": "code",
   "execution_count": 12,
   "metadata": {},
   "outputs": [],
   "source": [
    "graph = GraphDatabase.driver(\n",
    "    \"neo4j://localhost:7687\",\n",
    "    auth=(\"neo4j\", \"xxx\")\n",
    ")"
   ]
  },
  {
   "cell_type": "code",
   "execution_count": 13,
   "metadata": {},
   "outputs": [],
   "source": [
    "# Modify KG, e.g. Delete all link(s) from 'Happy Village' --to--> 'Wilson'\n",
    "query = (\n",
    "        \"MATCH (n1:GPE {name:'Happy Village'})\"\n",
    "        \"MATCH (n2:PERSON {name:'Wilson'})\"\n",
    "        \"MATCH (n1)-[r]->(n2)\"\n",
    "        \"DELETE r\"\n",
    ")\n",
    "\n",
    "# Execuate above query to modify neo4j db:\n",
    "with graph.session() as session:\n",
    "    results = session.run(query)"
   ]
  },
  {
   "cell_type": "markdown",
   "metadata": {},
   "source": [
    "Your exercise: Modify KG, e.g. Delete all link(s) from 'Florida' --to--> 'Happy Village'"
   ]
  },
  {
   "cell_type": "code",
   "execution_count": 14,
   "metadata": {},
   "outputs": [],
   "source": [
    "# Your exercise: Modify KG, e.g. Delete all link(s) from 'Florida' --to--> 'Happy Village'\n",
    "query2 = (\n",
    "    \"MATCH (n1:GPE {name:'Florida'})\"\n",
    "    \"MATCH (n2:GPE {name:'Happy Village'})\"\n",
    "    \"MATCH (n1)-[r]->(n2)\"\n",
    "    \"DELETE r\"\n",
    ")\n",
    "\n",
    "with graph.session() as session:\n",
    "    results = session.run(query2)"
   ]
  },
  {
   "cell_type": "markdown",
   "metadata": {},
   "source": [
    "### Add rule set:"
   ]
  },
  {
   "cell_type": "code",
   "execution_count": 15,
   "metadata": {},
   "outputs": [],
   "source": [
    "# Rule 1: Sibilings relationship/link\n",
    "\n",
    "# WHEN:\n",
    "# (n1:PERSON)-[r:father]->(n2:PERSON) # n1 has a father : n2\n",
    "# (n2:PERSON)-[r2:child]->(n3:PERSON) # n2 has a child  : n3\n",
    "# THEN:\n",
    "# n1 and n3 are siblings (bi-direcitonal)\n",
    "\n",
    "query = (\n",
    "        \"MATCH (n1:PERSON)-[r:father]->(n2:PERSON)-[r2:child]->(n3:PERSON)\"\n",
    "        \"WHERE (n1) <> (n3)\"\n",
    "        \"MERGE (n1)-[r3:sibling]->(n3)\"\n",
    "        \"MERGE (n3)-[r4:sibling]->(n1)\"\n",
    "        \"RETURN n1, n3\"\n",
    ")"
   ]
  },
  {
   "cell_type": "code",
   "execution_count": 16,
   "metadata": {},
   "outputs": [],
   "source": [
    "# Execuate above query to modify neo4j db:\n",
    "with graph.session() as session:\n",
    "    results = session.run(query)"
   ]
  },
  {
   "cell_type": "code",
   "execution_count": 17,
   "metadata": {},
   "outputs": [],
   "source": [
    "# Rule 2: Mother relationship/link\n",
    "\n",
    "# WHEN:\n",
    "# (n1:PERSON)-[r:father]->(n2:PERSON)  # n1 has a father : n2\n",
    "# (n2:PERSON)-[r2:spouse]->(n3:PERSON) # n2 has a spouse : n3\n",
    "# THEN:\n",
    "# (n1)-[r3:mother]->(n3) # n1 has a mother : n3\n",
    "# (n3)-[r4:child]->(n1)  # n3 has a child  : n1\n",
    "\n",
    "query = (\n",
    "        \"MATCH (n1:PERSON)-[r:father]->(n2:PERSON)-[r2:spouse]->(n3:PERSON)\"\n",
    "        \"MERGE (n1)-[r3:mother]->(n3)\"\n",
    "        \"MERGE (n3)-[r4:child]->(n1)\"\n",
    "        \"RETURN n1, n3\"\n",
    ")"
   ]
  },
  {
   "cell_type": "code",
   "execution_count": 18,
   "metadata": {},
   "outputs": [],
   "source": [
    "# Execuate above query to modify neo4j db:\n",
    "with graph.session() as session:\n",
    "    results = session.run(query)"
   ]
  },
  {
   "cell_type": "code",
   "execution_count": 19,
   "metadata": {},
   "outputs": [],
   "source": [
    "# Rule 3: Grandfather relationship/link\n",
    "\n",
    "# WHEN:\n",
    "# (n1:PERSON)-[r:father]->(n2:PERSON)  # n1 has a father : n2\n",
    "# (n2:PERSON)-[r2:father]->(n3:PERSON) # n2 has a father : n3\n",
    "# THEN:\n",
    "# (n1)-[r3:grandfather]->(n3) # n1 has a grandfather : n3\n",
    "# (n3)-[r4:grandchild]->(n1)  # n3 has a grandchild  : n1\n",
    "\n",
    "query = (\n",
    "        \"MATCH (n1:PERSON)-[r:father]->(n2:PERSON)-[r2:father]->(n3:PERSON)\"\n",
    "        \"MERGE (n1)-[r3:grandfather]->(n3)\"\n",
    "        \"MERGE (n3)-[r4:grandchild]->(n1)\"\n",
    "        \"RETURN n1, n3\"\n",
    ")"
   ]
  },
  {
   "cell_type": "code",
   "execution_count": 20,
   "metadata": {},
   "outputs": [],
   "source": [
    "# Execuate above query to modify neo4j db:\n",
    "with graph.session() as session:\n",
    "    results = session.run(query)"
   ]
  },
  {
   "cell_type": "markdown",
   "metadata": {},
   "source": [
    "## 3.3 Retrieve informatino by querying / reasoning over KG."
   ]
  },
  {
   "cell_type": "markdown",
   "metadata": {},
   "source": [
    "### Our query: 'Deep Thought, what's the relationship between Wilson and William?'"
   ]
  },
  {
   "cell_type": "code",
   "execution_count": 21,
   "metadata": {},
   "outputs": [
    {
     "name": "stdout",
     "output_type": "stream",
     "text": [
      "Deep Thought: Wilson has grandchild William.\n"
     ]
    }
   ],
   "source": [
    "query = (\n",
    "        \"MATCH (n1 {name:'Wilson'})-[r]->(n2 {name:'William'})\"\n",
    "        \"RETURN n1, r, n2\"\n",
    ")\n",
    "with graph.session() as session:\n",
    "    results = session.run(query)\n",
    "    for result in results:\n",
    "        print(\"Deep Thought: {0} has {1} {2}.\".format(result['n1']['name'], \n",
    "                                                           result['r'].type, \n",
    "                                                           result['n2']['name']))"
   ]
  },
  {
   "cell_type": "markdown",
   "metadata": {},
   "source": [
    "### Our query: 'Deep Thought, what's the relationship between James and Marry?'"
   ]
  },
  {
   "cell_type": "code",
   "execution_count": 22,
   "metadata": {},
   "outputs": [
    {
     "name": "stdout",
     "output_type": "stream",
     "text": [
      "Deep Thought: James has mother Mary.\n"
     ]
    }
   ],
   "source": [
    "query = (\n",
    "        \"MATCH (n1 {name:'James'})-[r]->(n2 {name:'Mary'})\"\n",
    "        \"RETURN n1, r, n2\"\n",
    ")\n",
    "with graph.session() as session:\n",
    "    results = session.run(query)\n",
    "    for result in results:\n",
    "        print(\"Deep Thought: {0} has {1} {2}.\".format(result['n1']['name'], \n",
    "                                                           result['r'].type, \n",
    "                                                           result['n2']['name']))"
   ]
  },
  {
   "cell_type": "markdown",
   "metadata": {},
   "source": [
    "# 4. Knowledge Graph [Workshop]\n",
    "### Build knowledge graph in << Animal Farm >> by  George Orwell;\n",
    "### Then query various entities and relationships;"
   ]
  },
  {
   "cell_type": "code",
   "execution_count": 23,
   "metadata": {},
   "outputs": [
    {
     "data": {
      "text/plain": [
       "['Title: Animal Farm \\n',\n",
       " 'Author: George Orwell (pseudonym of Eric Blair) (1903-1950)\\n',\n",
       " 'Chapter I\\n',\n",
       " 'Mr Jones, of the Manor Farm, had locked the hen-houses for the night, but was too drunk to remember to shut the pop-holes.\\n',\n",
       " 'With the ring of light from his lantern dancing from side to side, he lurched across the yard, kicked off his boots at the back door, drew himself a last glass of beer from the barrel in the scullery, and made his way up to bed, where Mrs Jones was already snoring.\\n']"
      ]
     },
     "execution_count": 23,
     "metadata": {},
     "output_type": "execute_result"
    }
   ],
   "source": [
    "sentences = []\n",
    "\n",
    "# with open(\"./corpus/Family.txt\", \"r\") as f:\n",
    "with open(\"./corpus/Animal Farm by George Orwell.txt\", \"r\") as f:\n",
    "    sentence = f.readline()\n",
    "    while sentence:\n",
    "        sentences.append(sentence)\n",
    "        sentence = f.readline()\n",
    "\n",
    "sentences[0:5]"
   ]
  },
  {
   "cell_type": "code",
   "execution_count": 25,
   "metadata": {},
   "outputs": [
    {
     "name": "stdout",
     "output_type": "stream",
     "text": [
      "create new node with label as ORG and name as Animal Farm\n",
      "create new node with label as PERSON and name as George Orwell\n",
      "create new node with label as PERSON and name as Eric Blair\n",
      "create new relationship George Orwell - said_to_be_the_same_as -> Eric Blair with confidence of 0.9982547163963318\n",
      "create new relationship Eric Blair - said_to_be_the_same_as -> George Orwell with confidence of 0.9979104399681091\n",
      "create new node with label as PERSON and name as Jones\n",
      "create new node with label as ORG and name as the Manor Farm\n",
      "create new relationship Jones - residence -> the Manor Farm with confidence of 0.9298855066299438\n",
      "create new node with label as PERSON and name as Willingdon Beauty\n",
      "create new node with label as ORG and name as Bluebell\n",
      "create new node with label as PERSON and name as Jessie\n",
      "create new node with label as PERSON and name as Pincher\n",
      "create new relationship Bluebell - sibling -> Jessie with confidence of 0.9978225231170654\n",
      "create new relationship Jessie - sibling -> Bluebell with confidence of 0.9978194236755371\n",
      "create new relationship Bluebell - sibling -> Pincher with confidence of 0.9978651404380798\n",
      "create new relationship Pincher - sibling -> Bluebell with confidence of 0.9978657364845276\n",
      "create new relationship Jessie - sibling -> Pincher with confidence of 0.9964622855186462\n",
      "create new relationship Pincher - sibling -> Jessie with confidence of 0.9970192909240723\n",
      "create new node with label as ORG and name as cud\n",
      "create new node with label as PERSON and name as Boxer\n",
      "create new node with label as PERSON and name as Muriel\n",
      "create new node with label as PERSON and name as Benjamin\n",
      "create new relationship Muriel - sibling -> Benjamin with confidence of 0.9958147406578064\n",
      "create new relationship Benjamin - sibling -> Muriel with confidence of 0.9939456582069397\n",
      "create new node with label as PERSON and name as Mollie\n",
      "create new node with label as PERSON and name as Major\n",
      "create new node with label as PERSON and name as Moses\n",
      "create new node with label as GPE and name as England\n",
      "create new node with label as PERSON and name as Clover\n",
      "create new node with label as GPE and name as Ireland\n",
      "create new node with label as ORG and name as Hearken\n",
      "create new relationship Hearken - country_of_origin -> England with confidence of 0.9246946573257446\n",
      "create new node with label as PERSON and name as Purer\n",
      "create new node with label as PERSON and name as geese\n",
      "create new relationship Hearken - country_of_origin -> England with confidence of 0.9389719367027283\n",
      "create new relationship Hearken - country_of_origin -> Ireland with confidence of 0.814911425113678\n",
      "create new node with label as ORG and name as boars\n",
      "create new node with label as PERSON and name as Snowball\n",
      "create new node with label as GPE and name as Napoleon\n",
      "create new relationship boars - part_of -> Napoleon with confidence of 0.9450677037239075\n",
      "create new relationship Napoleon - part_of -> boars with confidence of 0.925724983215332\n",
      "create new relationship Snowball - sibling -> Napoleon with confidence of 0.9976471066474915\n",
      "create new relationship Napoleon - sibling -> Snowball with confidence of 0.9976703524589539\n",
      "create new relationship Jones - child -> Snowball with confidence of 0.9582951068878174\n",
      "create new relationship Jones - child -> Napoleon with confidence of 0.8381686210632324\n",
      "create new node with label as GPE and name as Berkshire\n",
      "create new relationship Snowball - characters -> Napoleon with confidence of 0.9579518437385559\n",
      "create new relationship Napoleon - characters -> Snowball with confidence of 0.9003074169158936\n",
      "create new node with label as GPE and name as Animalism\n",
      "create new relationship Major - movement -> Animalism with confidence of 0.9761337041854858\n",
      "create new relationship Jones - religion -> Animalism with confidence of 0.8586722612380981\n",
      "create new relationship Animalism - religion -> Jones with confidence of 0.8705956935882568\n",
      "create new relationship Moses - characters -> Jones with confidence of 0.8944079875946045\n",
      "create new node with label as ORG and name as Windsor\n",
      "create new node with label as GPE and name as Willingdon\n",
      "create new node with label as ORG and name as the Red Lion\n",
      "create new relationship Jones - residence -> Willingdon with confidence of 0.9879118204116821\n",
      "create new relationship Willingdon - residence -> Jones with confidence of 0.985345721244812\n",
      "create new relationship Willingdon - location -> the Red Lion with confidence of 0.9141185283660889\n",
      "create new relationship the Red Lion - location -> Willingdon with confidence of 0.8801007270812988\n",
      "create new node with label as PERSON and name as Mrs Jones\n",
      "create new relationship Jones - residence -> the Manor Farm with confidence of 0.9657945036888123\n",
      "create new relationship the Manor Farm - residence -> Jones with confidence of 0.8770221471786499\n",
      "create new node with label as ORG and name as hayfield\n",
      "create new relationship Snowball - sibling -> Napoleon with confidence of 0.9155516028404236\n",
      "create new relationship Napoleon - sibling -> Snowball with confidence of 0.9021342396736145\n",
      "create new node with label as GPE and name as Brussels\n",
      "create new node with label as PERSON and name as Queen Victoria\n",
      "create new relationship Napoleon - spouse -> Snowball with confidence of 0.838107168674469\n",
      "create new node with label as ORG and name as Seven Commandments\n",
      "create new relationship Animalism - part_of -> Seven Commandments with confidence of 0.9788493514060974\n",
      "create new relationship Seven Commandments - part_of -> Animalism with confidence of 0.9573409557342529\n",
      "create new node with label as ORG and name as flagstaff\n",
      "create new relationship Snowball - residence -> England with confidence of 0.9365116953849792\n",
      "create new node with label as ORG and name as Animal Committees\n",
      "create new relationship Snowball - member_of -> Animal Committees with confidence of 0.9253317713737488\n",
      "create new node with label as ORG and name as the Egg Production Committee\n",
      "create new node with label as ORG and name as the Clean Tails League\n",
      "create new node with label as ORG and name as the Whiter Wool Movement\n",
      "create new relationship the Egg Production Committee - followed_by -> the Whiter Wool Movement with confidence of 0.8646026253700256\n",
      "create new relationship the Whiter Wool Movement - followed_by -> the Egg Production Committee with confidence of 0.8577871918678284\n",
      "create new node with label as PERSON and name as A.\n",
      "\n",
      "create new node with label as ORG and name as LEGS GOOD\n",
      "create new node with label as ORG and name as LEGS\n",
      "create new relationship Napoleon - characters -> Snowball with confidence of 0.981620192527771\n",
      "create new relationship Snowball - characters -> Napoleon with confidence of 0.9701718091964722\n",
      "create new relationship Jessie - spouse -> Bluebell with confidence of 0.9958086013793945\n",
      "create new relationship Bluebell - spouse -> Jessie with confidence of 0.9963745474815369\n",
      "create new relationship Snowball - sibling -> Napoleon with confidence of 0.9037277698516846\n",
      "create new node with label as ORG and name as Science\n",
      "create new relationship Snowball - spouse -> Napoleon with confidence of 0.862626314163208\n",
      "create new relationship Jones - owned_by -> the Red Lion with confidence of 0.9571020603179932\n",
      "create new relationship the Red Lion - owned_by -> Jones with confidence of 0.978111982345581\n",
      "create new relationship Jones - residence -> Willingdon with confidence of 0.9834426045417786\n",
      "create new relationship Willingdon - residence -> Jones with confidence of 0.984716534614563\n",
      "create new relationship the Red Lion - headquarters_location -> Willingdon with confidence of 0.968693196773529\n",
      "create new relationship Willingdon - headquarters_location -> the Red Lion with confidence of 0.9851192831993103\n",
      "create new node with label as ORG and name as Foxwood\n",
      "create new node with label as PERSON and name as Pilkington\n",
      "create new node with label as ORG and name as Pinchfield\n",
      "create new node with label as PERSON and name as Frederick\n",
      "create new relationship Frederick - sibling -> Pilkington with confidence of 0.8631737232208252\n",
      "create new relationship Pilkington - sibling -> Frederick with confidence of 0.8050662875175476\n",
      "create new relationship Frederick - spouse -> Pilkington with confidence of 0.974970281124115\n",
      "create new relationship Pilkington - spouse -> Frederick with confidence of 0.9618985056877136\n",
      "create new relationship Foxwood - followed_by -> Pinchfield with confidence of 0.8007354736328125\n",
      "create new node with label as PERSON and name as Julius Caesar's\n",
      "create new node with label as ORG and name as cowman\n",
      "create new node with label as PERSON and name as bush\n",
      "create new relationship Snowball - sibling -> Boxer with confidence of 0.9337499737739563\n",
      "create new relationship Boxer - sibling -> Snowball with confidence of 0.9320181608200073\n",
      "create new node with label as ORG and name as Cowshed\n",
      "create new node with label as ORG and name as Flagstaff\n",
      "create new node with label as ORG and name as dogcart\n",
      "create new relationship Snowball - characters -> Napoleon with confidence of 0.8637352585792542\n",
      "create new relationship Napoleon - characters -> Snowball with confidence of 0.9214884638786316\n",
      "create new node with label as ORG and name as House\n",
      "create new node with label as ORG and name as Stone\n",
      "create new relationship Snowball - characters -> Benjamin with confidence of 0.9985274076461792\n",
      "create new relationship Benjamin - characters -> Snowball with confidence of 0.9986116886138916\n",
      "create new node with label as PERSON and name as Windmill\n",
      "create new node with label as PERSON and name as Minimus\n",
      "create new relationship Snowball - characters -> Napoleon with confidence of 0.9917336702346802\n",
      "create new relationship Napoleon - characters -> Snowball with confidence of 0.993183434009552\n",
      "create new node with label as PERSON and name as SEEMED\n",
      "create new relationship SEEMED - characters -> Snowball with confidence of 0.9919365644454956\n",
      "create new relationship Snowball - characters -> SEEMED with confidence of 0.9907213449478149\n",
      "create new relationship Muriel - sibling -> Benjamin with confidence of 0.9966681599617004\n",
      "create new relationship Benjamin - sibling -> Muriel with confidence of 0.9957139492034912\n",
      "create new node with label as PERSON and name as Whymper\n",
      "create new relationship Whymper - residence -> Willingdon with confidence of 0.9803418517112732\n",
      "create new relationship Willingdon - residence -> Whymper with confidence of 0.9770492911338806\n",
      "create new relationship Animal Farm - said_to_be_the_same_as -> the Manor Farm with confidence of 0.9986662864685059\n",
      "create new relationship the Manor Farm - said_to_be_the_same_as -> Animal Farm with confidence of 0.998573899269104\n",
      "create new relationship Frederick - sibling -> Whymper with confidence of 0.8602491617202759\n",
      "create new relationship Animal Farm - owned_by -> Napoleon with confidence of 0.9582186341285706\n",
      "create new relationship Napoleon - owned_by -> Animal Farm with confidence of 0.8430392146110535\n",
      "create new relationship Animal Farm - owned_by -> Frederick with confidence of 0.9464694261550903\n",
      "create new relationship Animal Farm - headquarters_location -> Pinchfield with confidence of 0.9629992246627808\n",
      "create new relationship Pinchfield - headquarters_location -> Animal Farm with confidence of 0.9218060970306396\n",
      "create new relationship Napoleon - spouse -> Pilkington with confidence of 0.9883345365524292\n",
      "create new relationship Pilkington - spouse -> Napoleon with confidence of 0.9795280694961548\n",
      "create new relationship Napoleon - spouse -> Frederick with confidence of 0.9724504947662354\n",
      "create new relationship Frederick - spouse -> Napoleon with confidence of 0.9643245339393616\n",
      "create new relationship Pinchfield - owned_by -> Napoleon with confidence of 0.8017134070396423\n",
      "create new relationship Pilkington - residence -> Pinchfield with confidence of 0.9932149648666382\n",
      "create new relationship Pinchfield - residence -> Pilkington with confidence of 0.8640404939651489\n",
      "create new node with label as ORG and name as the Fourth Commandment\n",
      "create new relationship Clover - notable_work -> the Fourth Commandment with confidence of 0.9664127826690674\n",
      "create new relationship the Fourth Commandment - notable_work -> Clover with confidence of 0.8581127524375916\n",
      "create new node with label as ORG and name as Foxwood Farm\n",
      "create new relationship Snowball - residence -> Foxwood Farm with confidence of 0.9776586890220642\n",
      "create new relationship Foxwood Farm - residence -> Snowball with confidence of 0.9673265218734741\n",
      "create new node with label as ORG and name as Black Minorca\n",
      "create new node with label as PERSON and name as spinney\n",
      "create new relationship Pilkington - sibling -> Frederick with confidence of 0.9870589971542358\n",
      "create new relationship Frederick - sibling -> Pilkington with confidence of 0.9757896661758423\n",
      "create new node with label as ORG and name as Frederick, Snowball\n",
      "create new relationship Frederick, Snowball - residence -> Foxwood with confidence of 0.9954078793525696\n",
      "create new relationship Foxwood - residence -> Frederick, Snowball with confidence of 0.9928795695304871\n",
      "create new relationship Frederick, Snowball - position_played_on_team___speciality -> Pinchfield with confidence of 0.9956713914871216\n",
      "create new relationship Pinchfield - position_played_on_team___speciality -> Frederick, Snowball with confidence of 0.9931722283363342\n",
      "create new relationship Foxwood - residence -> Snowball with confidence of 0.9816014766693115\n",
      "create new relationship Snowball - residence -> Foxwood with confidence of 0.9915932416915894\n",
      "create new relationship Pinchfield - occupant -> Foxwood with confidence of 0.9594118595123291\n",
      "create new relationship Pilkington - sibling -> Snowball with confidence of 0.8680377006530762\n",
      "create new relationship Pilkington - position_played_on_team___speciality -> Pinchfield with confidence of 0.9944459199905396\n",
      "create new relationship Pinchfield - position_played_on_team___speciality -> Pilkington with confidence of 0.9935004115104675\n",
      "create new relationship Snowball - position_played_on_team___speciality -> Pinchfield with confidence of 0.9954363703727722\n",
      "create new relationship Pinchfield - position_played_on_team___speciality -> Snowball with confidence of 0.9932275414466858\n",
      "create new node with label as ORG and name as Frederick of\n",
      "create new node with label as ORG and name as Pinchfield Farm\n",
      "create new relationship Snowball - characters -> Jones with confidence of 0.9679144620895386\n",
      "create new relationship Jones - characters -> Snowball with confidence of 0.9507346749305725\n",
      "create new relationship Snowball - characters -> Animal Farm with confidence of 0.9688396453857422\n",
      "create new relationship Animal Farm - characters -> Snowball with confidence of 0.9841744303703308\n",
      "create new relationship Snowball - characters -> Frederick with confidence of 0.9659662246704102\n",
      "create new relationship Frederick - characters -> Snowball with confidence of 0.9902389049530029\n",
      "create new relationship Animal Farm - owned_by -> Frederick with confidence of 0.9930016398429871\n",
      "create new relationship Frederick - owned_by -> Animal Farm with confidence of 0.9925763607025146\n",
      "create new relationship Muriel - sibling -> Benjamin with confidence of 0.9953755140304565\n",
      "create new relationship Benjamin - sibling -> Muriel with confidence of 0.9962213039398193\n",
      "create new relationship Muriel - has_part -> geese with confidence of 0.8521983027458191\n",
      "create new relationship geese - has_part -> Muriel with confidence of 0.9070225358009338\n",
      "create new relationship geese - has_part -> Benjamin with confidence of 0.8020273447036743\n",
      "create new relationship Animal Farm - part_of -> hayfield with confidence of 0.9054022431373596\n",
      "create new relationship hayfield - part_of -> Animal Farm with confidence of 0.9089683294296265\n",
      "create new relationship Clover - spouse -> Benjamin with confidence of 0.9941615462303162\n",
      "create new relationship Benjamin - spouse -> Clover with confidence of 0.9953978657722473\n",
      "create new node with label as ORG and name as Commandment\n",
      "create new node with label as ORG and name as fed\n",
      "create new node with label as ORG and name as Ducklings' Friend\n",
      "create new relationship Whymper - father -> Napoleon with confidence of 0.8714804649353027\n",
      "create new relationship Frederick - spouse -> Pilkington with confidence of 0.8960996866226196\n",
      "create new relationship Pilkington - spouse -> Frederick with confidence of 0.919478178024292\n",
      "create new relationship Frederick - participant -> Animal Farm with confidence of 0.9704836010932922\n",
      "create new relationship Animal Farm - participant -> Frederick with confidence of 0.989364743232727\n",
      "create new relationship Snowball - characters -> Napoleon with confidence of 0.9986172914505005\n",
      "create new relationship Napoleon - characters -> Snowball with confidence of 0.99822598695755\n",
      "create new node with label as PERSON and name as Pinkeye\n",
      "create new relationship Napoleon - spouse -> Pilkington with confidence of 0.905942976474762\n",
      "create new relationship Napoleon - owned_by -> Animal Farm with confidence of 0.9893791079521179\n",
      "create new relationship Animal Farm - owned_by -> Napoleon with confidence of 0.9967492818832397\n",
      "create new relationship Pilkington - owned_by -> Animal Farm with confidence of 0.8274003863334656\n",
      "create new relationship Animal Farm - owned_by -> Pilkington with confidence of 0.9819629192352295\n",
      "create new relationship Pilkington - work_location -> Whymper with confidence of 0.9757031798362732\n",
      "create new relationship Whymper - work_location -> Pilkington with confidence of 0.8818546533584595\n",
      "create new relationship Pilkington - sibling -> Frederick with confidence of 0.9698977470397949\n",
      "create new relationship Frederick - sibling -> Pilkington with confidence of 0.967326819896698\n",
      "create new relationship Frederick - owned_by -> Animal Farm with confidence of 0.9941391944885254\n",
      "create new relationship Animal Farm - owned_by -> Frederick with confidence of 0.9942576885223389\n",
      "create new relationship Napoleon - spouse -> Frederick with confidence of 0.9467005729675293\n",
      "create new relationship Frederick - spouse -> Napoleon with confidence of 0.9427344799041748\n",
      "create new relationship Snowball - residence -> Foxwood with confidence of 0.9562103748321533\n",
      "create new node with label as ORG and name as Napoleon Mill\n",
      "create new relationship Pilkington - spouse -> Napoleon with confidence of 0.8113159537315369\n",
      "create new relationship Frederick - spouse -> Pilkington with confidence of 0.8435192108154297\n",
      "create new relationship Napoleon - spouse -> Frederick with confidence of 0.9300240874290466\n",
      "create new relationship Pinchfield Farm - residence -> Napoleon with confidence of 0.8280849456787109\n",
      "create new relationship Napoleon - residence -> Pinchfield Farm with confidence of 0.9816178679466248\n",
      "create new relationship Pinchfield Farm - location -> Animal Farm with confidence of 0.9801409840583801\n",
      "create new relationship Animal Farm - location -> Pinchfield Farm with confidence of 0.98227858543396\n",
      "create new relationship Napoleon - residence -> Animal Farm with confidence of 0.8252962827682495\n",
      "create new relationship Snowball - residence -> Pinchfield Farm with confidence of 0.9825641512870789\n",
      "create new relationship Pinchfield Farm - residence -> Snowball with confidence of 0.9681566953659058\n",
      "create new relationship Snowball - residence -> Foxwood with confidence of 0.9890630841255188\n",
      "create new relationship Foxwood - residence -> Snowball with confidence of 0.9804279208183289\n",
      "create new relationship Snowball - residence -> Pilkington with confidence of 0.9336451292037964\n",
      "create new relationship Pinchfield Farm - owned_by -> Pilkington with confidence of 0.8860582709312439\n",
      "create new relationship Pilkington - owned_by -> Pinchfield Farm with confidence of 0.8631996512413025\n",
      "create new node with label as GPE and name as china\n",
      "create new relationship Frederick - father -> Napoleon with confidence of 0.9177718162536621\n",
      "create new relationship Foxwood - residence -> Pilkington with confidence of 0.9764507412910461\n",
      "create new relationship Pilkington - residence -> Foxwood with confidence of 0.9761403799057007\n",
      "create new node with label as ORG and name as Courage\n",
      "create new relationship Boxer - spouse -> Jessie with confidence of 0.9012818932533264\n",
      "create new relationship Bluebell - characters -> Boxer with confidence of 0.8461593389511108\n",
      "create new relationship Jessie - spouse -> Bluebell with confidence of 0.8521834015846252\n",
      "create new relationship Bluebell - spouse -> Jessie with confidence of 0.8649322986602783\n",
      "create new node with label as ORG and name as the Order of the Green Banner\n",
      "create new relationship the Order of the Green Banner - owned_by -> Napoleon with confidence of 0.9232762455940247\n",
      "create new node with label as ORG and name as gallop\n",
      "create new relationship Snowball - characters -> Napoleon with confidence of 0.9508967995643616\n",
      "create new relationship Napoleon - characters -> Snowball with confidence of 0.9517106413841248\n",
      "create new node with label as ORG and name as Squealer\n",
      "create new relationship Squealer - movement -> Animalism with confidence of 0.9675984978675842\n",
      "create new relationship Animalism - movement -> Squealer with confidence of 0.9799798727035522\n",
      "create new relationship Napoleon - field_of_work -> Animal Farm with confidence of 0.8926489949226379\n",
      "create new node with label as GPE and name as Republic\n",
      "create new relationship Snowball - characters -> Jones with confidence of 0.9693806171417236\n",
      "create new relationship Jones - characters -> Snowball with confidence of 0.9690837264060974\n",
      "create new relationship Snowball - characters -> Jones with confidence of 0.9800100922584534\n",
      "create new relationship Jones - characters -> Snowball with confidence of 0.9817012548446655\n",
      "create new relationship Napoleon - characters -> Snowball with confidence of 0.8938487768173218\n",
      "create new relationship Clover - spouse -> Benjamin with confidence of 0.9739107489585876\n",
      "create new relationship Benjamin - spouse -> Clover with confidence of 0.927574098110199\n",
      "create new relationship Clover - has_part -> Boxer with confidence of 0.8781960606575012\n",
      "create new relationship Boxer - has_part -> Clover with confidence of 0.8365645408630371\n",
      "create new relationship Willingdon - residence -> Napoleon with confidence of 0.8457717895507812\n",
      "create new relationship Boxer - residence -> Willingdon with confidence of 0.8457876443862915\n",
      "create new relationship Mollie - sibling -> Snowball with confidence of 0.9959386587142944\n",
      "create new relationship Snowball - sibling -> Mollie with confidence of 0.9948975443840027\n",
      "create new relationship Clover - spouse -> Benjamin with confidence of 0.9516361355781555\n",
      "create new relationship Benjamin - spouse -> Clover with confidence of 0.9725971817970276\n",
      "create new node with label as ORG and name as Benjamin and Clover\n",
      "create new node with label as PERSON and name as Alfred Simmonds\n",
      "create new node with label as PERSON and name as Horse Slaughterer\n",
      "create new node with label as ORG and name as Glue Boiler\n",
      "create new relationship Alfred Simmonds - occupation -> Horse Slaughterer with confidence of 0.9871199131011963\n",
      "create new relationship Horse Slaughterer - occupation -> Alfred Simmonds with confidence of 0.9668987989425659\n",
      "create new relationship Alfred Simmonds - occupation -> Glue Boiler with confidence of 0.927595317363739\n",
      "create new relationship Alfred Simmonds - residence -> Willingdon with confidence of 0.9934437274932861\n",
      "create new relationship Willingdon - residence -> Alfred Simmonds with confidence of 0.9769440293312073\n",
      "create new relationship Willingdon - manufacturer -> Glue Boiler with confidence of 0.984370768070221\n",
      "create new node with label as ORG and name as Kennels Supplied\n",
      "create new relationship Boxer - characters -> Napoleon with confidence of 0.8605458736419678\n",
      "create new relationship Napoleon - characters -> Boxer with confidence of 0.8998175859451294\n",
      "create new relationship Muriel - sibling -> Bluebell with confidence of 0.9935785531997681\n",
      "create new relationship Bluebell - sibling -> Muriel with confidence of 0.9794674515724182\n",
      "create new relationship Muriel - sibling -> Jessie with confidence of 0.9885509610176086\n",
      "create new relationship Jessie - sibling -> Muriel with confidence of 0.8955575823783875\n",
      "create new relationship Muriel - sibling -> Pincher with confidence of 0.9401076436042786\n",
      "create new relationship Bluebell - sibling -> Jessie with confidence of 0.9968596696853638\n",
      "create new relationship Jessie - sibling -> Bluebell with confidence of 0.996631920337677\n",
      "create new relationship Bluebell - sibling -> Pincher with confidence of 0.9970009922981262\n",
      "create new relationship Pincher - sibling -> Bluebell with confidence of 0.9964284300804138\n",
      "create new relationship Jessie - sibling -> Pincher with confidence of 0.9968754053115845\n",
      "create new relationship Pincher - sibling -> Jessie with confidence of 0.9968425035476685\n",
      "create new relationship Whymper - manufacturer -> dogcart with confidence of 0.9009546041488647\n",
      "create new relationship Napoleon - movement -> Animalism with confidence of 0.9936356544494629\n",
      "create new relationship Animalism - movement -> Napoleon with confidence of 0.992048442363739\n",
      "create new node with label as GPE and name as England!--owned\n",
      "create new node with label as GPE and name as The Republic of the Animals\n",
      "create new relationship The Republic of the Animals - country_of_origin -> England with confidence of 0.8670352101325989\n",
      "create new node with label as ORG and name as Amazed\n",
      "create new node with label as PERSON and name as John Bull'\n",
      "create new node with label as ORG and name as Tit-Bits'\n",
      "create new node with label as ORG and name as the 'Daily Mirror'\n",
      "create new relationship Pilkington - residence -> Foxwood with confidence of 0.9337618350982666\n",
      "create new node with label as ORG and name as The Manor Farm\n",
      "create new node with label as ORG and name as Clover's\n"
     ]
    }
   ],
   "source": [
    "# Your code:\n",
    "\n",
    "# 识别句子中的实体和它们之间的关系，并将它们存储到Neo4j图数据库中\n",
    "\n",
    "# 1. 遍历每个句子。\n",
    "# 2. 使用spaCy将句子进行分析，提取其中的命名实体（人名、地名、组织名）。\n",
    "# 3. 对于每个实体，如果它不在已有实体列表中，则将其添加到已有实体字典中，并使用节点标签和实体名称在图数据库中创建一个新节点。\n",
    "# 4. 对于每对实体，判断它们的关系是否已经存在。如果不存在，则使用OpenNRE模型推断它们的关系及其置信度。\n",
    "# 5. 将推断得到的关系存储到已有关系列表中，并根据置信度判断是否需要在图数据库中创建一个新的关系。\n",
    "\n",
    "# 通过该代码段，可以在文本中识别出实体并构建实体之间的关系图，从而分析实体之间的关联性。\n",
    "# nlp = spacy.load('en_core_web_lg')\n",
    "exist_ent = {}\n",
    "exist_relationship = []\n",
    "\n",
    "for sentence in sentences:\n",
    "    # 遍历每个句子。\n",
    "    doc = nlp(sentence)\n",
    "    entities = []\n",
    "    names_of_entities = []\n",
    "    for ent in doc.ents:\n",
    "        # 提取特定类型的实体\n",
    "        # 每次迭代，将会取出一个实体，并将其赋值给变量ent。在循环体内可以对每个实体执行进一步的操作或者获取实体的相关信息，比如实体的文本内容、标签等。\n",
    "        # ent.text 获取到实体的文本内容，ent.label_ 获取到实体的标签（如’PERSON’表示人名，‘GPE’表示地名，‘ORG’表示组织名等）。\n",
    "        # 这样我们就可以根据实体的标签和文本内容来进行后续的处理，比如存储到数据库中或者进行关系推断等。\n",
    "        if ent.label_ in ['PERSON', 'GPE', 'ORG'] and ent.text not in names_of_entities:\n",
    "#        if ent not in entities:\n",
    "            names_of_entities.append(ent.text)\n",
    "            entities.append(ent)\n",
    "            \n",
    "    for ent in entities:\n",
    "        # 遍历所有的新实体，将其存储到 exist_ent 字典中，并在图数据库中创建新的节点。\n",
    "        if exist_ent.get(ent.text) is None:\n",
    "            # exist_ent 字典中是否已存在当前实体的文本内容。\n",
    "            exist_ent[ent.text] = ent.text\n",
    "            # 使用作为节点标签和实体名称的信息，构建一个执行Cypher查询的字符串。\n",
    "            query = (\n",
    "                \"MERGE (node: \"+ent.label_+\" {name: $name})\" # MERGE语句用于在图数据库中创建节点，如果节点已存在则不重复创建。\n",
    "                \"RETURN node\"\n",
    "            )\n",
    "            # 使用 graph.session() 函数创建一个数据库会话，并使用 session.run() 方法执行查询。执行结果存储在 result 对象中。\n",
    "            with graph.session() as session:\n",
    "                result = session.run(query, name=ent.text)\n",
    "            print(\"create new node with label as {0} and name as {1}\".format(ent.label_, ent.text))\n",
    "\n",
    "    for i in range(len(entities)):\n",
    "        for j in range(i + 1, len(entities)):\n",
    "            text_i = entities[i].text\n",
    "            text_j = entities[j].text\n",
    "            loc_h = sentence.find(text_i)\n",
    "            loc_t = sentence.find(text_j)\n",
    "            # 推断这两个实体之间的关系\n",
    "            result = model.infer({'text': sentence, 'h': {'pos': (loc_h, loc_h + len(text_i))},\n",
    "                               't': {'pos': (loc_t, loc_t + len(text_j))}})\n",
    "           \n",
    "            (rel, confidence) = result[0].replace(' ', '_').replace('/', '_'), result[1]\n",
    "\n",
    "            record = (text_i, text_j, rel, confidence) # 记录实体文本、关系名称和置信度。\n",
    "\n",
    "            # 创建反向关系\n",
    "            result_rev = model.infer({'text': sentence, 'h': {'pos': (loc_t, loc_t + len(text_j))},\n",
    "                               't': {'pos': (loc_h, loc_h + len(text_i))}})\n",
    "            (rel_rev, confidence) = result_rev[0].replace(' ', '_').replace('/', '_'), result_rev[1]\n",
    "\n",
    "            record_rev = (text_j, text_i, rel_rev, confidence)\n",
    "\n",
    "            # 检查是否已经存在相同的关系记录，如果不存在，则将关系记录添加到 exist_relationship 列表中。\n",
    "            if record not in exist_relationship:\n",
    "                exist_relationship.append(record)\n",
    "                if record[3] > 0.8:\n",
    "                    # 检查置信度是否大于0.8\n",
    "                    query = (\n",
    "                        \"MATCH (n1 {name: $name1})\"\n",
    "                        \"MATCH (n2 {name: $name2})\"\n",
    "                        \"MERGE (n1) - [r:\"+record[2]+\"] -> (n2)\"\n",
    "                        \"RETURN n1, n2, r\"\n",
    "                    )\n",
    "                    # 使用Cypher查询在图数据库中创建新的关系\n",
    "                    with graph.session() as session:\n",
    "                        result = session.run(query, name1=exist_ent[text_i], name2=exist_ent[text_j])\n",
    "                    print(\"create new relationship {0} - {1} -> {2} with confidence of {3}\".format(record[0], record[2], record[1], record[3]))\n",
    "\n",
    "            if record_rev not in exist_relationship:\n",
    "                exist_relationship.append(record_rev)\n",
    "                if record_rev[3] > 0.8:\n",
    "                    query = (\n",
    "                        \"MATCH (n1 {name: $name1})\"\n",
    "                        \"MATCH (n2 {name: $name2})\"\n",
    "                        \"MERGE (n1) - [r:\"+record_rev[2]+\"] -> (n2)\"   \n",
    "                        \"RETURN n1, n2, r\"\n",
    "                    )\n",
    "\n",
    "                    with graph.session() as session:\n",
    "                        result = session.run(query, name1=exist_ent[text_j], name2=exist_ent[text_i])\n",
    "                    print(\"create new relationship {0} - {1} -> {2} with confidence of {3}\".format(record_rev[0], record_rev[2], record_rev[1], record_rev[3]))\n",
    "\n"
   ]
  },
  {
   "cell_type": "markdown",
   "metadata": {},
   "source": [
    "### Hints: You might hit errors like: CypherSyntaxError - invalid input '/' in relationships(predicates), etc. \n",
    "\n",
    "\n",
    "I am confident you can solve it, aka: Don't write email to me regarding these."
   ]
  },
  {
   "cell_type": "markdown",
   "metadata": {},
   "source": [
    "---"
   ]
  },
  {
   "cell_type": "code",
   "execution_count": 26,
   "metadata": {},
   "outputs": [
    {
     "name": "stdout",
     "output_type": "stream",
     "text": [
      "Deep Thought: Napoleon is field_of_work Animal Farm.\n",
      "Deep Thought: Napoleon is residence Animal Farm.\n",
      "Deep Thought: Napoleon is owned_by Animal Farm.\n"
     ]
    }
   ],
   "source": [
    "query = (\n",
    "        \"MATCH (n1 {name:'Napoleon'})-[r]->(n2 {name:'Animal Farm'})\"\n",
    "        \"RETURN n1, r, n2\"\n",
    ")\n",
    "with graph.session() as session:\n",
    "    results = session.run(query)\n",
    "    for result in results:\n",
    "        print(\"Deep Thought: {0} is {1} {2}.\".format(result['n1']['name'], \n",
    "                                                           result['r'].type, \n",
    "                                                           result['n2']['name']))"
   ]
  },
  {
   "cell_type": "code",
   "execution_count": 27,
   "metadata": {},
   "outputs": [
    {
     "name": "stdout",
     "output_type": "stream",
     "text": [
      "Deep Thought: Napoleon has spouse Snowball.\n",
      "Deep Thought: Napoleon has characters Snowball.\n",
      "Deep Thought: Napoleon has sibling Snowball.\n"
     ]
    }
   ],
   "source": [
    "query = (\n",
    "        \"MATCH (n1 {name:'Napoleon'})-[r]->(n2 {name:'Snowball'})\"\n",
    "        \"RETURN n1, r, n2\"\n",
    ")\n",
    "with graph.session() as session:\n",
    "    results = session.run(query)\n",
    "    for result in results:\n",
    "        print(\"Deep Thought: {0} has {1} {2}.\".format(result['n1']['name'], \n",
    "                                                           result['r'].type, \n",
    "                                                           result['n2']['name']))"
   ]
  },
  {
   "cell_type": "code",
   "execution_count": 28,
   "metadata": {
    "scrolled": true
   },
   "outputs": [],
   "source": [
    "query = (\n",
    "        \"MATCH (n1 {name:'Rebellion'})-[r]->(n2)\"\n",
    "        \"RETURN n1, r, n2\"\n",
    ")\n",
    "with graph.session() as session:\n",
    "    results = session.run(query)\n",
    "    for result in results:\n",
    "        print(\"Deep Thought: {0} has {1} {2}.\".format(result['n1']['name'], \n",
    "                                                           result['r'].type, \n",
    "                                                           result['n2']['name']))"
   ]
  },
  {
   "cell_type": "markdown",
   "metadata": {},
   "source": [
    "---\n",
    "`The end is called a new start.` --- ISS: **I** **S**(elf) **S**(tudy)"
   ]
  },
  {
   "cell_type": "markdown",
   "metadata": {},
   "source": [
    "---"
   ]
  }
 ],
 "metadata": {
  "kernelspec": {
   "display_name": "Python 3",
   "language": "python",
   "name": "python3"
  },
  "language_info": {
   "codemirror_mode": {
    "name": "ipython",
    "version": 3
   },
   "file_extension": ".py",
   "mimetype": "text/x-python",
   "name": "python",
   "nbconvert_exporter": "python",
   "pygments_lexer": "ipython3",
   "version": "3.9.17"
  }
 },
 "nbformat": 4,
 "nbformat_minor": 4
}
